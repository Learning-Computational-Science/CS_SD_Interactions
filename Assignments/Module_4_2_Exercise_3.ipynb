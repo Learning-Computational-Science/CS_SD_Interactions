{
 "cells": [
  {
   "cell_type": "markdown",
   "metadata": {
    "collapsed": true
   },
   "source": [
    "# Module 4.2 Exercise 3 (Modified)\n",
    "The [blue whale](http://animals.nationalgeographic.com/animals/blue-whale-interactive/) which can grow up to 30 m in length is baleen whale which mostly eat [krill](https://en.wikipedia.org/wiki/Krill) which are a small (about 5 cm) shrimp.  For this predator - prey system,\n",
    "1. Write out differential equations for the prey and predator, but include the effect of carrying capacity for the krill population.\n",
    "1. Convert the differential equation into finite difference form which could be used in a computer simulation of this system.\n",
    "\n",
    "Your equation for the krill population will be similar to equation 2 in module 4.2, but will include the term to constrain the growth as in equation 1 of module 2.3.  The idea is that the prey population is limited by the ecosystem carrying capacity."
   ]
  },
  {
   "cell_type": "code",
   "execution_count": null,
   "metadata": {
    "collapsed": true
   },
   "outputs": [],
   "source": []
  }
 ],
 "metadata": {
  "anaconda-cloud": {},
  "kernelspec": {
   "display_name": "Python [conda root]",
   "language": "python",
   "name": "conda-root-py"
  },
  "language_info": {
   "codemirror_mode": {
    "name": "ipython",
    "version": 3
   },
   "file_extension": ".py",
   "mimetype": "text/x-python",
   "name": "python",
   "nbconvert_exporter": "python",
   "pygments_lexer": "ipython3",
   "version": "3.5.2"
  }
 },
 "nbformat": 4,
 "nbformat_minor": 0
}
