{
 "cells": [
  {
   "cell_type": "markdown",
   "metadata": {
    "collapsed": true
   },
   "source": [
    "# Module 4.2 Project 6 (Modified)\n",
    "Implement the model developed in [Module 4.2 Exercise 3](./Module_4_2_Exercise_3.ipynb).  In your model, use the following assumption for model coefficients: \n",
    "\n",
    "- Krill Carrying Capacity = $4 \\times 10^8$ tons\n",
    "- Krill Birth Rate = 15% This means that without constraints the krill population could double in about 4 and one half years.\n",
    "- Your equation for the krill population should have an $a_{01}P_0P_1$ term.  Set $a_{01}$ such that when the krill population is at carrying capacity, each whale eats about 400 tons of krill annually.\n",
    "- Your equation for the blue whale population should have a term $r_{11}P_1$ in it.  Use $r_{11}=-3.5$ to account for the decrease of blue whale in the absence of sufficient food supplies.  (Note:  This value along with the $a_{10}$ term below set the time responsiveness of blue whale population.\n",
    "- Your equation for the blue whale population should also have an $a_{10}P_0P_1$ term in it.  Set the value of $a_{10}$ so that there are $2500$ blue whales in the steady state or equilibrium state.  This value comes from [a paper](http://onlinelibrary.wiley.com/doi/10.1111/mms.12157/abstract) by [Monnahan](https://github.com/colemonnahan) on modeling blue whale population and ship strikes.\n",
    "- In all of the following models, assume nothing else eats krill. \n",
    "\n",
    "Run your model with the initial conditions:\n",
    "1. Assume there are 5000 blue whale and $3 x 10^8$ tons of krill.\n",
    "1. Find the equilibrium point for the model, and run a simulation with initial conditions of an ecological disaster which kills 10% of the whales, and 80% of the krill.\n",
    "1. Assume the whales are hunted to almost extinction or 1% of their equilibrium level and describe what happens after hunting stops.  Create a graph which plots the time in years it takes the whales to return to their equilibrium population as a function the percentage of equilibrium population to which the whales were hunted.\n",
    "\n",
    "For each example, plot the whale population and krill populations as functions of time.  You should plot both on the [same figure with different 'y' axes](http://matplotlib.org/examples/axes_grid/demo_parasite_axes2.html)."
   ]
  },
  {
   "cell_type": "code",
   "execution_count": null,
   "metadata": {
    "collapsed": true
   },
   "outputs": [],
   "source": []
  }
 ],
 "metadata": {
  "anaconda-cloud": {},
  "kernelspec": {
   "display_name": "Python [conda root]",
   "language": "python",
   "name": "conda-root-py"
  },
  "language_info": {
   "codemirror_mode": {
    "name": "ipython",
    "version": 3
   },
   "file_extension": ".py",
   "mimetype": "text/x-python",
   "name": "python",
   "nbconvert_exporter": "python",
   "pygments_lexer": "ipython3",
   "version": "3.5.2"
  }
 },
 "nbformat": 4,
 "nbformat_minor": 0
}
