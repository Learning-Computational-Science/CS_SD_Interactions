{
 "cells": [
  {
   "cell_type": "markdown",
   "metadata": {
    "collapsed": true
   },
   "source": [
    "# Module 4.1 Exercise 2 (Modified)\n",
    "One way of writing differential equations for modeling two species competition with constrained growth is:\n",
    "$$\\frac{dP_0}{dt}=r_0P_0\\left( \\frac{M_0-a_{00}P_0-a_{01}P_1}{M_0} \\right)$$\n",
    "and\n",
    "$$\\frac{dP_1}{dt}=r_1P_1\\left( \\frac{M_1-a_{11}P_1-a_{10}P_1}{M_1} \\right)$$\n",
    "Using the differential equations in this form:\n",
    "1.  Explain the meaning of each term in the differential equations.\n",
    "1.  Find the non-trivial equilibrium solutions to each of these equations.  You may ignore the trivial $r_0 =0$ and $r_1=0$. \n",
    "1.  Create a plot which shows the steady state behavior of this system of equations.  This plot will have $a_{01}$ on the horizontal axis and $a_{10}$ on the vertical axis.  The value at each location should be the steady state ratio of $P_0/P_1$ for the given $a_{10}$ and $a_{01}.$  The values in this plot are also a function of $M_0/M_1.$ Therefore, create this plot multiple times using $M_0/M_1=[0.1,\\: 0.25,\\: 0.5,\\: 0.75,\\: 1,\\: 1.33,\\: 2,\\: 4,\\: 10].$\n",
    "1.  Discuss the results."
   ]
  },
  {
   "cell_type": "code",
   "execution_count": null,
   "metadata": {
    "collapsed": true
   },
   "outputs": [],
   "source": []
  }
 ],
 "metadata": {
  "anaconda-cloud": {},
  "kernelspec": {
   "display_name": "Python [conda root]",
   "language": "python",
   "name": "conda-root-py"
  },
  "language_info": {
   "codemirror_mode": {
    "name": "ipython",
    "version": 3
   },
   "file_extension": ".py",
   "mimetype": "text/x-python",
   "name": "python",
   "nbconvert_exporter": "python",
   "pygments_lexer": "ipython3",
   "version": "3.5.2"
  }
 },
 "nbformat": 4,
 "nbformat_minor": 0
}
